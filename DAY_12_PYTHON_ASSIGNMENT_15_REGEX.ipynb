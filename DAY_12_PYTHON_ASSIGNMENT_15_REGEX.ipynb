{
 "cells": [
  {
   "cell_type": "code",
   "execution_count": 3,
   "metadata": {},
   "outputs": [
    {
     "name": "stdout",
     "output_type": "stream",
     "text": [
      "1. Enter any string you want \n",
      "2. Display the dictionary\n",
      "3. exit\n",
      "{'found': ['this is algorithm', 'this is mid'], 'not found': ['this is data', 'this is min']}\n"
     ]
    }
   ],
   "source": [
    "'''1. Do the following using Regular Expression:\n",
    "1. accept lines from user and store in a list.\n",
    "convert list into dictionary as follows\n",
    "{\n",
    " “found”:[“this is algorithm”, “this is mid”],\n",
    "“not found:[“this is data”,”this is min”]\n",
    "}\n",
    "store all lines ending with m or mid in a list and assign list to key “found” in dictionary\n",
    "otherwise store it in a list and assign it to key not found”'''\n",
    "\n",
    "import re\n",
    "redic = {\"found\": [], \"not found\": []}\n",
    "user_input = 0\n",
    "print(\"1. Enter any string you want \")\n",
    "print(\"2. Display the dictionary\")\n",
    "print(\"3. exit\")\n",
    "while user_input != 3:\n",
    "    user_input = int(input(\"choose an option: \"))\n",
    "    if user_input == 1:\n",
    "        ipstring = str(input(\"Enter amy string you want: \"))\n",
    "        x = re.search('(m|mid)$', ipstring)\n",
    "        if(x!=None):\n",
    "            redic[\"found\"].append(ipstring) \n",
    "        else:\n",
    "            redic[\"not found\"].append(ipstring) \n",
    "    elif user_input == 2:\n",
    "        print(redic)\n",
    "    elif user_input == 3:\n",
    "        break\n",
    "    else:\n",
    "            print(\"Choose an option from these: \")"
   ]
  },
  {
   "cell_type": "code",
   "execution_count": 1,
   "metadata": {},
   "outputs": [
    {
     "name": "stdout",
     "output_type": "stream",
     "text": [
      "1. Enter the movie data \n",
      "2. Movies released in the year2018\n",
      "3. Movies released in pune city\n",
      "4. exit\n",
      "Movies released in the year2018 are:\n",
      " queen , 2018\n",
      " dangal , 2018\n",
      "Movies released in pune are:\n",
      " queen\n",
      " sholay\n"
     ]
    }
   ],
   "source": [
    "'''2. accept strings in following format from user and store it in a list:\n",
    "12, queen,2018, kangana, 1234562018, pune\n",
    "15, dangal,2018, aamir, 34562562018, mumbai\n",
    "12, sholay,1995, amitabh, 7869272018, pune\n",
    " ---- Display movie name and year separated by, if the movie was released in 2018.\n",
    " ---- Display movies released in pune city.\n",
    "'''\n",
    "\n",
    "import re\n",
    "movielist=[]\n",
    "user_input = 0\n",
    "print(\"1. Enter the movie data \")\n",
    "print(\"2. Movies released in the year2018\")\n",
    "print(\"3. Movies released in pune city\")\n",
    "print(\"4. exit\")\n",
    "while user_input != 4:\n",
    "    user_input = int(input(\"choose an option: \"))\n",
    "    if user_input == 1:\n",
    "        ipstring = str(input(\"Enter the movie raw data seperated by , \"))\n",
    "        x = re.split(r\"\\,\", ipstring)\n",
    "        movielist.append(x)\n",
    "      \n",
    "    elif user_input == 2:\n",
    "        print(\"Movies released in the year2018 are:\")\n",
    "        for subarray in movielist:\n",
    "            if \"2018\" in subarray:\n",
    "                print(subarray[1],',', subarray[2])\n",
    "    elif user_input == 3:\n",
    "        print(\"Movies released in pune are:\")\n",
    "        for subarray in movielist:\n",
    "            if \" pune\" in subarray:\n",
    "                print(subarray[1])\n",
    "    elif user_input == 4:\n",
    "        break\n",
    "    else:\n",
    "            print(\"Choose an option from these: \")\n",
    "\n",
    "\n",
    "\n",
    "\n"
   ]
  },
  {
   "cell_type": "code",
   "execution_count": 4,
   "metadata": {},
   "outputs": [
    {
     "name": "stdout",
     "output_type": "stream",
     "text": [
      "1. Enter any string you want \n",
      "2. Display list which contains pattern cat\n",
      "3. Display list which contains pattern bat\n",
      "4. exit\n",
      "cat is cute\n",
      "Pattern cat found in the above string\n",
      "bat is batman\n",
      "Pattern bat found in the above string\n",
      "['cat is cute']\n",
      "['bat is batman']\n"
     ]
    }
   ],
   "source": [
    "'''3. Accept 2 patterns from user\n",
    "Accept multiple strings from user till user enters end, if string has pattern 1 then store it\n",
    "in list1\n",
    "If it has pattern 2 then store it in list2 else display message pattern not found'''\n",
    "\n",
    "import re\n",
    "list1=[]\n",
    "list2=[]\n",
    "user_input = 0\n",
    "ipstring = str(input(\"Enter two patterns you want to search seperated by , \"))\n",
    "x = re.split(r\"\\,\", ipstring)\n",
    "p1=x[0]\n",
    "p2=x[1]\n",
    "def check(str, pattern):\n",
    "    if re.search(pattern, str):\n",
    "        print(\"Valid String\")\n",
    "    else:\n",
    "        print(\"Invalid String\")\n",
    "print(\"1. Enter any string you want \")\n",
    "print(f\"2. Display list which contains pattern {p1}\")\n",
    "print(f\"3. Display list which contains pattern {p2}\")\n",
    "print(\"4. exit\")\n",
    "while user_input != 4:\n",
    "    user_input = int(input(\"choose an option: \"))\n",
    "    if user_input == 1:\n",
    "        ipstring = str(input(\" Enter any string you want\"))\n",
    "        if re.search(p1, ipstring):\n",
    "            list1.append(ipstring)\n",
    "            print(ipstring)\n",
    "            print(f\"Pattern {p1} found in the above string\")\n",
    "        elif re.search(p2, ipstring):\n",
    "            list2.append(ipstring)\n",
    "            print(ipstring)\n",
    "            print(f\"Pattern {p2} found in the above string\")\n",
    "        else:\n",
    "            print(ipstring)\n",
    "            print(\"Pattern {p1} 0r {p2} not found in the above string\")\n",
    "    elif user_input == 2:\n",
    "        print(list1)\n",
    "    elif user_input == 3:\n",
    "        print(list2)\n",
    "    elif user_input == 4:\n",
    "        break\n",
    "    else:\n",
    "            print(\"Choose an option from these: \")"
   ]
  }
 ],
 "metadata": {
  "interpreter": {
   "hash": "8472c49774e88a00aabd3f3607337df9d93343567da3242f839f648923139f50"
  },
  "kernelspec": {
   "display_name": "Python 3.9.2 64-bit",
   "language": "python",
   "name": "python3"
  },
  "language_info": {
   "codemirror_mode": {
    "name": "ipython",
    "version": 3
   },
   "file_extension": ".py",
   "mimetype": "text/x-python",
   "name": "python",
   "nbconvert_exporter": "python",
   "pygments_lexer": "ipython3",
   "version": "3.9.2"
  },
  "orig_nbformat": 4
 },
 "nbformat": 4,
 "nbformat_minor": 2
}
