{
 "cells": [
  {
   "cell_type": "code",
   "execution_count": 1,
   "metadata": {},
   "outputs": [
    {
     "name": "stdout",
     "output_type": "stream",
     "text": [
      "[500, 400, 300, 200, 100]\n"
     ]
    }
   ],
   "source": [
    "'''1. Reverse a given list in Python\n",
    "aLsit = [100, 200, 300, 400, 500]\n",
    "output:\n",
    " [500, 400, 300, 200, 100]'''\n",
    "\n",
    "aList = [100, 200, 300, 400, 500]\n",
    "aList = aList[::-1]\n",
    "print(aList)"
   ]
  },
  {
   "cell_type": "code",
   "execution_count": 20,
   "metadata": {},
   "outputs": [
    {
     "name": "stdout",
     "output_type": "stream",
     "text": [
      "['My', 'name', 'is', 'Rajesh']\n",
      "['My', 'name', 'is', 'Rajesh']\n"
     ]
    }
   ],
   "source": [
    "'''2. Concatenate two lists index-wise\n",
    "Given:\n",
    "list1 = [\"M\", \"na\", \"i\", \"Raj\"]\n",
    "list2 = [\"y\", \"me\", \"s\", \"esh\"]\n",
    "output:\n",
    "['My', 'name', 'is', 'Rajesh']'''\n",
    "\n",
    "list1 = [\"M\", \"na\", \"i\", \"Raj\"] \n",
    "list2 = [\"y\", \"me\", \"s\", \"esh\"]\n",
    "list3 = []\n",
    "for i in range(len(list1)):\n",
    "    list3.append(list1[i]+list2[i])\n",
    "print(list3)\n",
    "\n",
    "#or\n",
    "\n",
    "list1 = [\"M\", \"na\", \"i\", \"Raj\"] \n",
    "list2 = [\"y\", \"me\", \"s\", \"esh\"]\n",
    "list3 = [i + j for i, j in zip(list1, list2)]\n",
    "print(list3)"
   ]
  },
  {
   "cell_type": "code",
   "execution_count": 3,
   "metadata": {},
   "outputs": [
    {
     "name": "stdout",
     "output_type": "stream",
     "text": [
      "[1, 4, 9, 16, 25, 36, 49]\n"
     ]
    }
   ],
   "source": [
    "'''3. Given a Python list of numbers. Turn every item of a list into its square\n",
    "aList = [1, 2, 3, 4, 5, 6, 7]\n",
    "output:\n",
    "[1, 4, 9, 16, 25, 36, 49]'''\n",
    "\n",
    "aList = [1, 2, 3, 4, 5, 6, 7]\n",
    "aList =  [x * x for x in aList]\n",
    "print(aList)"
   ]
  },
  {
   "cell_type": "code",
   "execution_count": 4,
   "metadata": {},
   "outputs": [
    {
     "name": "stdout",
     "output_type": "stream",
     "text": [
      "['Hello Students', 'Hello Sir', 'Welcome Students', 'Welcome Sir']\n"
     ]
    }
   ],
   "source": [
    "'''4. Concatenate two lists in the following order\n",
    "list1 = [\"Hello \", \"Welcome \"]\n",
    "list2 = [\"Students\", \"Sir\"]\n",
    "output:\n",
    " ['Hello Students ', 'Hello Sir', 'welcome Students ', 'Welcome Sir']'''\n",
    "\n",
    "list1 = [\"Hello \", \"Welcome \"]\n",
    "list2 = [\"Students\", \"Sir\"]\n",
    "\n",
    "resList = [x+y for x in list1 for y in list2]\n",
    "print(resList)"
   ]
  },
  {
   "cell_type": "code",
   "execution_count": 30,
   "metadata": {},
   "outputs": [
    {
     "name": "stdout",
     "output_type": "stream",
     "text": [
      "10 400\n",
      "20 300\n",
      "30 200\n",
      "40 100\n",
      "10 400\n",
      "20 300\n",
      "30 200\n",
      "40 100\n"
     ]
    }
   ],
   "source": [
    "'''5. Given a two Python list. Iterate both lists simultaneously such that list1 should display item\n",
    "in original order and list2 in reverse order\n",
    "list1 = [10, 20, 30, 40]\n",
    "list2 = [100, 200, 300, 400]\n",
    "output:\n",
    " 10 400\n",
    "20 300\n",
    "30 200\n",
    "40 100'''\n",
    "\n",
    "list1=[10,20,30,40]\n",
    "list2=[100,200,300,400]\n",
    "list3=list2[::-1]\n",
    "for i in range(len(list1)):\n",
    "  print(list1[i], list3[i])\n",
    "#or\n",
    "\n",
    "list1=[10,20,30,40]\n",
    "list2=[100,200,300,400]\n",
    "for i in range(len(list1)):\n",
    "  print(list1[i], list2[-i-1])\n",
    "\n",
    "#or\n",
    "\n",
    "list1 = [10, 20, 30, 40]\n",
    "list2 = [100, 200, 300, 400]\n",
    "for x, y in zip(list1, list2[::-1]):\n",
    "    print(x, y)"
   ]
  },
  {
   "cell_type": "code",
   "execution_count": 6,
   "metadata": {},
   "outputs": [
    {
     "name": "stdout",
     "output_type": "stream",
     "text": [
      "['Ashish', 'Atharva', 'Amit', 'Revati']\n"
     ]
    }
   ],
   "source": [
    "'''6. Remove empty strings from the list of strings\n",
    "list1 = [\"Ashish\", \"\", \"Atharva\", \"Amit\", \"\", \"Revati\"]\n",
    "output:\n",
    "[\"Ashish\", \"Atharva\", \"Amit\", \"Revati\"]'''\n",
    "\n",
    "list1 = [\"Ashish\", \"\", \"Atharva\", \"Amit\", \"\", \"Revati\"]\n",
    "resList = list(filter(None, list1))\n",
    "print(resList)"
   ]
  },
  {
   "cell_type": "code",
   "execution_count": 7,
   "metadata": {},
   "outputs": [
    {
     "name": "stdout",
     "output_type": "stream",
     "text": [
      "[10, 20, [300, 400, [5000, 6000, 7000], 500], 30, 40]\n"
     ]
    }
   ],
   "source": [
    "'''7. Add item 7000 after 6000 in the following Python List\n",
    "list1 = [10, 20, [300, 400, [5000, 6000], 500], 30, 40]\n",
    "output:\n",
    "[10, 20, [300, 400, [5000, 6000, 7000], 500], 30, 40]'''\n",
    "\n",
    "list1 = [10, 20, [300, 400, [5000, 6000], 500], 30, 40]\n",
    "list1[2][2].append(7000)\n",
    "print(list1)"
   ]
  },
  {
   "cell_type": "code",
   "execution_count": 8,
   "metadata": {},
   "outputs": [
    {
     "name": "stdout",
     "output_type": "stream",
     "text": [
      "['a', 'b', ['c', ['d', 'e', ['f', 'g', 'h', 'i', 'j'], 'k'], 'l'], 'm', 'n']\n"
     ]
    }
   ],
   "source": [
    "'''8. Given a nested list extend it by adding the sub list [\"h\", \"i\", \"j\"] in such a way that it will look\n",
    "like the following list\n",
    "list1 = [\"a\", \"b\", [\"c\", [\"d\", \"e\", [\"f\", \"g\"], \"k\"], \"l\"], \"m\", \"n\"]\n",
    "Sub List to be added = [\"h\", \"i\", \"j\"]\n",
    "output:\n",
    "['a', 'b', ['c', ['d', 'e', ['f', 'g', 'h', 'i', 'j'], 'k'], 'l'], 'm', 'n']\n",
    " solution\n",
    "list1 = [\"a\", \"b\", [\"c\", [\"d\", \"e\", [\"f\", \"g\"], \"k\"], \"l\"], \"m\", \"n\"]\n",
    "subList = [\"h\", \"i\", \"j\"]\n",
    "list1[2][1][2].extend(subList)\n",
    "print(list1)'''\n",
    "\n",
    "\n",
    "list1 = [\"a\", \"b\", [\"c\", [\"d\", \"e\", [\"f\", \"g\"], \"k\"], \"l\"], \"m\", \"n\"]\n",
    "subList = [\"h\", \"i\", \"j\"]\n",
    "\n",
    "list1[2][1][2].extend(subList)\n",
    "print(list1)"
   ]
  },
  {
   "cell_type": "code",
   "execution_count": 31,
   "metadata": {},
   "outputs": [
    {
     "name": "stdout",
     "output_type": "stream",
     "text": [
      "[5, 10, 15, 200, 25, 50, 20]\n",
      "[5, 10, 15, 200, 25, 50, 20]\n"
     ]
    }
   ],
   "source": [
    "'''9. Given a Python list, find value 20 in the list, and if it is present, replace it with 200. Only\n",
    "update the first occurrence of a value\n",
    "list1 = [5, 10, 15, 20, 25, 50, 20]\n",
    "output:\n",
    "list1 = [5, 10, 15, 200, 25, 50, 20]'''\n",
    "\n",
    "list1 = [5, 10, 15, 20, 25, 50, 20]\n",
    "\n",
    "index = list1.index(20)\n",
    "list1[index] = 200\n",
    "print(list1)\n",
    "\n",
    "#or\n",
    "\n",
    "list1=[5,10,15,20,25,50,20]\n",
    "if 20 in list1:\n",
    "  pos=list1.index(20)\n",
    "  list1[pos]=200\n",
    "else:\n",
    "  print(\"20 not found\")\n",
    "print(list1)\n",
    "\n"
   ]
  },
  {
   "cell_type": "code",
   "execution_count": 33,
   "metadata": {},
   "outputs": [
    {
     "name": "stdout",
     "output_type": "stream",
     "text": [
      "[5, 15, 25, 50]\n",
      "[5, 15, 25, 50]\n"
     ]
    }
   ],
   "source": [
    "'''10. Given a Python list, remove all occurrence of 20 from the list\n",
    "list1 = [5, 20, 15, 20, 25, 50, 20]\n",
    "output:\n",
    "[5, 15, 25, 50]'''\n",
    "\n",
    "list1 = [5, 20, 15, 20, 25, 50, 20]\n",
    "\n",
    "def removeValue(sampleList, val):\n",
    "   return [value for value in sampleList if value != val]\n",
    "resList = removeValue(list1, 20)\n",
    "print(resList)\n",
    "\n",
    "#or\n",
    "\n",
    "def remove_items(samplelist, val):\n",
    "    for i in samplelist:\n",
    "        if(i == val):\n",
    "            samplelist.remove(i)\n",
    "  \n",
    "    return samplelist\n",
    "remove_items(list1,20)\n",
    "\n",
    "#or\n",
    "\n",
    "list1=[5,20,15,20,25,50,20]\n",
    "c=list1.count(20)\n",
    "for i in range(c):\n",
    "  list1.pop(list1.index(20))\n",
    "print(list1)\n"
   ]
  }
 ],
 "metadata": {
  "interpreter": {
   "hash": "8472c49774e88a00aabd3f3607337df9d93343567da3242f839f648923139f50"
  },
  "kernelspec": {
   "display_name": "Python 3.9.2 64-bit",
   "name": "python3"
  },
  "language_info": {
   "codemirror_mode": {
    "name": "ipython",
    "version": 3
   },
   "file_extension": ".py",
   "mimetype": "text/x-python",
   "name": "python",
   "nbconvert_exporter": "python",
   "pygments_lexer": "ipython3",
   "version": "3.9.2"
  },
  "orig_nbformat": 4
 },
 "nbformat": 4,
 "nbformat_minor": 2
}
