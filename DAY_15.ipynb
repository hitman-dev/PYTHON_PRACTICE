{
 "cells": [
  {
   "cell_type": "code",
   "execution_count": 2,
   "metadata": {},
   "outputs": [],
   "source": [
    "import requests\n",
    "from bs4 import BeautifulSoup as bsp\n"
   ]
  },
  {
   "cell_type": "code",
   "execution_count": null,
   "metadata": {},
   "outputs": [],
   "source": [
    "import requests  \n",
    "from bs4 import BeautifulSoup\n",
    "import re\n",
    "\n",
    "url = 'http://www.imdb.com/search/title?release_date=2021&sort=num_votes,desc&page=1'\n",
    "response = requests.get(url)\n",
    "print(response.content)\n",
    "#print(response.text[:500])\n",
    "\n",
    "html_soup = BeautifulSoup(response.text, 'html.parser')\n",
    "type(html_soup)\n",
    "print(html_soup)\n"
   ]
  },
  {
   "cell_type": "code",
   "execution_count": 29,
   "metadata": {},
   "outputs": [
    {
     "name": "stdout",
     "output_type": "stream",
     "text": [
      "<class 'bs4.element.ResultSet'>\n",
      "50\n"
     ]
    }
   ],
   "source": [
    "#data=html_soup.find_all(\"a\")\n",
    "#print(len(data))\n",
    "\n",
    "#find_all  ------ all matching element\n",
    "#find  ---- first matching element\n",
    "\n",
    "movie_containers = html_soup.find_all('div', class_ = 'lister-item mode-advanced')\n",
    "print(type(movie_containers))\n",
    "print(len(movie_containers))\n",
    "#print(movie_containers)"
   ]
  },
  {
   "cell_type": "code",
   "execution_count": 11,
   "metadata": {},
   "outputs": [
    {
     "name": "stdout",
     "output_type": "stream",
     "text": [
      "<h3 class=\"lister-item-header\">\n",
      "<span class=\"lister-item-index unbold text-primary\">1.</span>\n",
      "<a href=\"/title/tt12361974/\">Zack Snyder's Justice League</a>\n",
      "<span class=\"lister-item-year text-muted unbold\">(2021)</span>\n",
      "</h3>\n",
      "<a href=\"/title/tt12361974/\">Zack Snyder's Justice League</a>\n",
      "Zack Snyder's Justice League\n",
      "Dune: Part One\n"
     ]
    }
   ],
   "source": [
    "#to get name and movie number of first movie\n",
    "first_movie=movie_containers[0]\n",
    "# print(first_movie)\n",
    "# to retrieve movie name\n",
    "#print(first_movie.find_all('a'))\n",
    "print(first_movie.h3)\n",
    "print(first_movie.h3.a)\n",
    "print(first_movie.h3.a.text)\n",
    "\n",
    "second_movie=movie_containers[1]\n",
    "print(second_movie.h3.a.text)\n",
    "\n"
   ]
  },
  {
   "cell_type": "code",
   "execution_count": 33,
   "metadata": {},
   "outputs": [
    {
     "name": "stdout",
     "output_type": "stream",
     "text": [
      "[\"Zack Snyder's Justice League\", 'Dune: Part One', 'Squid Game', 'Aspirants', 'Black Widow', 'The Suicide Squad', 'WandaVision', 'Loki', 'Free Guy', 'Cruella', 'No Time to Die', 'Godzilla vs. Kong', 'The Tomorrow War', 'Radhe', 'Nobody', 'Shang-Chi and the Legend of the Ten Rings', 'The Falcon and the Winter Soldier', 'Army of the Dead', 'Mortal Kombat', 'Jungle Cruise', 'Wrath of Man', 'Raya and the Last Dragon', 'Luca', 'Mare of Easttown', 'Shershaah', 'F9', 'Invincible', 'The Conjuring: The Devil Made Me Do It', 'Lupin', 'Jai Bhim', 'Dhindora', 'Eternals', 'The Guilty', 'The Little Things', 'The Mitchells vs the Machines', 'Midnight Mass', 'Fear Street: 1994', 'Shadow and Bone', 'Old', 'The Dig', 'Venom: Let There Be Carnage', 'Master', 'The Woman in the Window', 'What If...?', 'Judas and the Black Messiah', 'Coming 2 America', 'Malignant', 'The Green Knight', \"Hitman's Wife's Bodyguard\", 'Tandav']\n",
      "['8.1', '8.2', '8.1', '9.7', '6.7', '7.3', '8.0', '8.3', '7.2', '7.4', '7.5', '6.4', '6.6', '1.8', '7.4', '7.7', '7.3', '5.8', '6.1', '6.6', '7.1', '7.4', '7.5', '8.5', '8.7', '5.2', '8.7', '6.3', '7.5', '9.6', '9.8', '6.9', '6.3', '6.3', '7.7', '7.7', '6.2', '7.7', '5.8', '7.1', '6.3', '7.8', '5.7', '7.5', '7.5', '5.3', '6.3', '6.6', '6.1', '3.8']\n",
      "['(2021)', '(2021)', '(2021)', '(2021– )', '(2021)', '(2021)', '(2021)', '(2021– )', '(2021)', '(2021)', '(2021)', '(2021)', '(2021)', '(2021)', '(I) (2021)', '(2021)', '(2021)', '(2021)', '(2021)', '(2021)', '(2021)', '(2021)', '(2021)', '(2021)', '(2021)', '(2021)', '(2021– )', '(2021)', '(2021– )', '(2021)', '(2021– )', '(2021)', '(2021)', '(2021)', '(2021)', '(2021)', '(2021)', '(2021– )', '(2021)', '(2021)', '(2021)', '(2021)', '(2021)', '(2021– )', '(2021)', '(2021)', '(I) (2021)', '(2021)', '(2021)', '(2021– )']\n"
     ]
    }
   ],
   "source": [
    "#to add all movinames in a list\n",
    "names=[]\n",
    "rating=[]\n",
    "year=[]\n",
    "for movie in movie_containers:\n",
    "    names.append(movie.h3.a.text)\n",
    "    rating.append(movie.strong.text)\n",
    "    year.append(movie.h3.find(\"span\",class_=\"lister-item-year text-muted unbold\").text)\n",
    "print(names)\n",
    "print(rating)\n",
    "print(year)"
   ]
  },
  {
   "cell_type": "code",
   "execution_count": 34,
   "metadata": {},
   "outputs": [
    {
     "name": "stdout",
     "output_type": "stream",
     "text": [
      "{'name': [\"Zack Snyder's Justice League\", 'Dune: Part One', 'Squid Game', 'Aspirants', 'Black Widow', 'The Suicide Squad', 'WandaVision', 'Loki', 'Free Guy', 'Cruella', 'No Time to Die', 'Godzilla vs. Kong', 'The Tomorrow War', 'Radhe', 'Nobody', 'Shang-Chi and the Legend of the Ten Rings', 'The Falcon and the Winter Soldier', 'Army of the Dead', 'Mortal Kombat', 'Jungle Cruise', 'Wrath of Man', 'Raya and the Last Dragon', 'Luca', 'Mare of Easttown', 'Shershaah', 'F9', 'Invincible', 'The Conjuring: The Devil Made Me Do It', 'Lupin', 'Jai Bhim', 'Dhindora', 'Eternals', 'The Guilty', 'The Little Things', 'The Mitchells vs the Machines', 'Midnight Mass', 'Fear Street: 1994', 'Shadow and Bone', 'Old', 'The Dig', 'Venom: Let There Be Carnage', 'Master', 'The Woman in the Window', 'What If...?', 'Judas and the Black Messiah', 'Coming 2 America', 'Malignant', 'The Green Knight', \"Hitman's Wife's Bodyguard\", 'Tandav'], 'ratings': ['8.1', '8.2', '8.1', '9.7', '6.7', '7.3', '8.0', '8.3', '7.2', '7.4', '7.5', '6.4', '6.6', '1.8', '7.4', '7.7', '7.3', '5.8', '6.1', '6.6', '7.1', '7.4', '7.5', '8.5', '8.7', '5.2', '8.7', '6.3', '7.5', '9.6', '9.8', '6.9', '6.3', '6.3', '7.7', '7.7', '6.2', '7.7', '5.8', '7.1', '6.3', '7.8', '5.7', '7.5', '7.5', '5.3', '6.3', '6.6', '6.1', '3.8'], 'year released': ['(2021)', '(2021)', '(2021)', '(2021– )', '(2021)', '(2021)', '(2021)', '(2021– )', '(2021)', '(2021)', '(2021)', '(2021)', '(2021)', '(2021)', '(I) (2021)', '(2021)', '(2021)', '(2021)', '(2021)', '(2021)', '(2021)', '(2021)', '(2021)', '(2021)', '(2021)', '(2021)', '(2021– )', '(2021)', '(2021– )', '(2021)', '(2021– )', '(2021)', '(2021)', '(2021)', '(2021)', '(2021)', '(2021)', '(2021– )', '(2021)', '(2021)', '(2021)', '(2021)', '(2021)', '(2021– )', '(2021)', '(2021)', '(I) (2021)', '(2021)', '(2021)', '(2021– )']}\n"
     ]
    }
   ],
   "source": [
    "#Adding the above lists to the dictionery\n",
    "data={\"name\":names,\"ratings\":rating,\"year released\":year}\n",
    "print(data)"
   ]
  },
  {
   "cell_type": "code",
   "execution_count": 39,
   "metadata": {},
   "outputs": [
    {
     "data": {
      "text/html": [
       "<div>\n",
       "<style scoped>\n",
       "    .dataframe tbody tr th:only-of-type {\n",
       "        vertical-align: middle;\n",
       "    }\n",
       "\n",
       "    .dataframe tbody tr th {\n",
       "        vertical-align: top;\n",
       "    }\n",
       "\n",
       "    .dataframe thead th {\n",
       "        text-align: right;\n",
       "    }\n",
       "</style>\n",
       "<table border=\"1\" class=\"dataframe\">\n",
       "  <thead>\n",
       "    <tr style=\"text-align: right;\">\n",
       "      <th></th>\n",
       "      <th>name</th>\n",
       "      <th>ratings</th>\n",
       "      <th>year released</th>\n",
       "    </tr>\n",
       "  </thead>\n",
       "  <tbody>\n",
       "    <tr>\n",
       "      <th>0</th>\n",
       "      <td>Zack Snyder's Justice League</td>\n",
       "      <td>8.1</td>\n",
       "      <td>2021</td>\n",
       "    </tr>\n",
       "    <tr>\n",
       "      <th>1</th>\n",
       "      <td>Dune: Part One</td>\n",
       "      <td>8.2</td>\n",
       "      <td>2021</td>\n",
       "    </tr>\n",
       "    <tr>\n",
       "      <th>2</th>\n",
       "      <td>Squid Game</td>\n",
       "      <td>8.1</td>\n",
       "      <td>2021</td>\n",
       "    </tr>\n",
       "    <tr>\n",
       "      <th>3</th>\n",
       "      <td>Aspirants</td>\n",
       "      <td>9.7</td>\n",
       "      <td>2021</td>\n",
       "    </tr>\n",
       "    <tr>\n",
       "      <th>4</th>\n",
       "      <td>Black Widow</td>\n",
       "      <td>6.7</td>\n",
       "      <td>2021</td>\n",
       "    </tr>\n",
       "  </tbody>\n",
       "</table>\n",
       "</div>"
      ],
      "text/plain": [
       "                           name ratings year released\n",
       "0  Zack Snyder's Justice League     8.1          2021\n",
       "1                Dune: Part One     8.2          2021\n",
       "2                    Squid Game     8.1          2021\n",
       "3                     Aspirants     9.7          2021\n",
       "4                   Black Widow     6.7          2021"
      ]
     },
     "execution_count": 39,
     "metadata": {},
     "output_type": "execute_result"
    }
   ],
   "source": [
    "import pandas as pd\n",
    "df=pd.DataFrame(data)\n",
    "df['year released'] = df['year released'].str.extract(r'(\\d+)', expand=False)\n",
    "df\n",
    "#print(df)\n",
    "df.head()"
   ]
  }
 ],
 "metadata": {
  "interpreter": {
   "hash": "8472c49774e88a00aabd3f3607337df9d93343567da3242f839f648923139f50"
  },
  "kernelspec": {
   "display_name": "Python 3.9.2 64-bit",
   "language": "python",
   "name": "python3"
  },
  "language_info": {
   "codemirror_mode": {
    "name": "ipython",
    "version": 3
   },
   "file_extension": ".py",
   "mimetype": "text/x-python",
   "name": "python",
   "nbconvert_exporter": "python",
   "pygments_lexer": "ipython3",
   "version": "3.9.2"
  },
  "orig_nbformat": 4
 },
 "nbformat": 4,
 "nbformat_minor": 2
}
