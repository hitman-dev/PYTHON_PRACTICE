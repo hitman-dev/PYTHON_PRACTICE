{
 "cells": [
  {
   "cell_type": "code",
   "execution_count": null,
   "metadata": {},
   "outputs": [],
   "source": [
    "number = int(input(\"Enter any number: \"))\n",
    "if number > 1:\n",
    "    for i in range(2, number):\n",
    "        if (number % i) == 0:\n",
    "            print(number, \"is not a prime number\")\n",
    "            break\n",
    "    else:\n",
    "        print(number, \"is a prime number\")\n",
    "else:\n",
    "    print(number, \"is not a prime number\")\n"
   ]
  },
  {
   "cell_type": "code",
   "execution_count": null,
   "metadata": {},
   "outputs": [],
   "source": [
    "num=int(input(\"Enter a number: \"))  \n",
    "while(num>0):\n",
    "   digit=num%10\n",
    "   sum=sum+digit\n",
    "   num=num//10\n",
    "print(\"The sum of digits is: \",sum)\n"
   ]
  },
  {
   "cell_type": "code",
   "execution_count": null,
   "metadata": {},
   "outputs": [],
   "source": [
    "def Sum_Of_Digits(Number):\n",
    "    Sum = 0\n",
    "    while(Number > 0):\n",
    "        Reminder = Number % 10\n",
    "        Sum = Sum + Reminder\n",
    "        Number = Number //10\n",
    "    return Sum\n",
    "\n",
    "Number = int(input(\"Please Enter any Number: \"))\n",
    "Sum = Sum_Of_Digits(Number)\n",
    "print(\"\\n Sum of the digits of Given Number = %d\" %Sum)\n"
   ]
  },
  {
   "cell_type": "code",
   "execution_count": 2,
   "metadata": {},
   "outputs": [
    {
     "name": "stdout",
     "output_type": "stream",
     "text": [
      "ia rna,aagrasme\n"
     ]
    }
   ],
   "source": [
    "s1= \"i am ironman, avanger assembel\"\n",
    "print(s1[::2])"
   ]
  },
  {
   "cell_type": "code",
   "execution_count": null,
   "metadata": {},
   "outputs": [],
   "source": [
    "'''1. Accept 10 integers from user and print their average value on the screen'''\n",
    "\n",
    "import math\n",
    "s=0\n",
    "for i in range(10):\n",
    "     num=int(input(\"Enter 10 numbers:\"))\n",
    "     print(num)\n",
    "     s=s+num     \n",
    "avg=s/10\n",
    "round(avg,2)\n",
    "print (\"sum of the entered numbers:\",s)\n",
    "print(\"Average of the entered numbers is :\",avg)\n"
   ]
  },
  {
   "cell_type": "code",
   "execution_count": 47,
   "metadata": {},
   "outputs": [
    {
     "name": "stdout",
     "output_type": "stream",
     "text": [
      "*\n",
      "**\n",
      "***\n",
      "****\n",
      "  *\n",
      " ***\n",
      "*****\n",
      " ***\n",
      "  *\n",
      "   \n",
      "1010101\n",
      " 10101\n",
      "  101\n",
      "   1\n",
      "1\n",
      "12\n",
      "123\n",
      "1234\n",
      "12345\n"
     ]
    }
   ],
   "source": [
    "'''2. Print the following patterns using loop :\n",
    "a.\n",
    "*\n",
    "**\n",
    "***\n",
    "****\n",
    "b.\n",
    " *\n",
    " ***\n",
    "*****\n",
    "***\n",
    " *\n",
    "c.\n",
    "1010101\n",
    "10101\n",
    " 101\n",
    " 1\n",
    "d.\n",
    "1\n",
    "1 2\n",
    "1 2 3\n",
    "1 2 3 4\n",
    "1 2 3 4 5'''\n",
    "#a)\n",
    "for i in range(4):\n",
    "    for j in range(0,i+1):\n",
    "        print(\"*\",end=\"\")\n",
    "    print()\n",
    "\n",
    "#b)\n",
    "n = 3\n",
    "for i in range(n):\n",
    "    print(' '*(n-i-1) + '*'*((2*i)+1) )\n",
    "for i in range(n):\n",
    "    print(' '*(i+1) + '*'*((2*((n-1)-i))-1))\n",
    "\n",
    "#c)\n",
    "i=3\n",
    "j=0\n",
    "while(i>=0):\n",
    "  a=\" \"*j+\"10\"*i+\"1\"\n",
    "  print(a)\n",
    "  i=i-1\n",
    "  j=j+1\n",
    "  if(i<0 and j>=4):\n",
    "   break \n",
    "\n",
    "#d)\n",
    "for i in range(1,6):\n",
    "    for j in range(1,i+1):\n",
    "        print(j,end=\"\")\n",
    "    print(\"\")\n",
    "\n"
   ]
  },
  {
   "cell_type": "code",
   "execution_count": null,
   "metadata": {},
   "outputs": [],
   "source": [
    "'''3. Write a program to find greatest common divisor (GCD) or highest common factor (HCF) of\n",
    "given two numbers.'''\n",
    "\n",
    "import math\n",
    "a = int(input(\"1st Number \"))\n",
    "b = int(input(\"2nd Number \"))\n",
    "print(f\"The GCD of {a} and {b} is {math.gcd(a,b)}\")\n"
   ]
  },
  {
   "cell_type": "code",
   "execution_count": 32,
   "metadata": {},
   "outputs": [
    {
     "name": "stdout",
     "output_type": "stream",
     "text": [
      "4\n",
      "4\n",
      "53\n",
      "5\n",
      "q\n",
      "The average of numbers is 16.5\n",
      "The product of numbers is 4240\n"
     ]
    }
   ],
   "source": [
    "'''4. Take integer inputs from user until he/she presses q ( Ask to press q to quit after every\n",
    "integer input ). Print average and product of all numbers.'''\n",
    "count=0\n",
    "sum = 0\n",
    "product = 1\n",
    "n = 0\n",
    "while n!=\"q\":\n",
    "    n=input(\"Enter the Number OR enter q to quit \")\n",
    "    print(n)\n",
    "    if n!=\"q\":\n",
    "        sum=sum+int(n)\n",
    "        count=count+1\n",
    "        product=product*int(n)\n",
    "print(f\"The average of numbers is {round(sum/count, 2)}\")\n",
    "print(f\"The product of numbers is {product}\")\n"
   ]
  },
  {
   "cell_type": "code",
   "execution_count": 33,
   "metadata": {},
   "outputs": [
    {
     "name": "stdout",
     "output_type": "stream",
     "text": [
      "Sum of digits of 454345 : 25\n",
      "Numer of digits is 6\n"
     ]
    }
   ],
   "source": [
    "'''5. Given a number count the total number of digits in a number and also find sum of digits of\n",
    "the number.'''\n",
    "num = int(input(\"Enter the number \"))\n",
    "s=0\n",
    "n1=num\n",
    "count=0\n",
    "while num!=0:\n",
    "    digit=num%10\n",
    "    s=s+digit\n",
    "    num=num//10  #345\n",
    "    count=count+1\n",
    "print(f\"Sum of digits of {n1} : {s}\")\n",
    "print(f\"Numer of digits is {count}\")\n"
   ]
  },
  {
   "cell_type": "code",
   "execution_count": null,
   "metadata": {},
   "outputs": [],
   "source": [
    "'''6. To display the cube of the number upto given an integer. If the given integer is 5, then\n",
    "display cube of 1 to 4.\n",
    "'''\n",
    "n=int(input(\"Enter limit \"))\n",
    "for i in range(1,n+1):\n",
    "    print(\"Number is: \",i)\n",
    "    print(\"Cube of the number is: \",i ** 3)\n",
    "    print()\n"
   ]
  },
  {
   "cell_type": "code",
   "execution_count": null,
   "metadata": {},
   "outputs": [],
   "source": [
    "'''7. Accept 20 numbers from user and display sum of only even numbers'''\n",
    "\n",
    "total = 0\n",
    "for number in range(20):\n",
    "     num=int(input(\"Enter 20 numbers:\"))\n",
    "     print(num)\n",
    "     if(number % 2 == 0):\n",
    "        print(number,\" is an even number\")\n",
    "        total = total + number\n",
    "\n",
    "print(\"The Sum of Even  from the entered numbers is :\", total)\n",
    "\n",
    "\n"
   ]
  },
  {
   "cell_type": "code",
   "execution_count": 4,
   "metadata": {},
   "outputs": [
    {
     "name": "stdout",
     "output_type": "stream",
     "text": [
      "9\n",
      "99\n",
      "999\n",
      "9999\n",
      "99999\n",
      "999999\n",
      "9999999\n",
      "99999999\n",
      "999999999\n",
      "The sum of the series =  1111111101\n"
     ]
    }
   ],
   "source": [
    "'''8. Ask user number of terms to be generated of a series.\n",
    "generate numbers for the following series and find its addition\n",
    "[9 + 99 + 999 + 9999+……..]\n",
    "'''\n",
    "n=int(input(\"Enter the range of number:\"))\n",
    "sum=0\n",
    "p=9\n",
    "for i in range(1,n+1):\n",
    "    sum += p\n",
    "    print(p)\n",
    "    p=(p*10)+9\n",
    " \n",
    "print(\"The sum of the series = \",sum)"
   ]
  },
  {
   "cell_type": "code",
   "execution_count": 12,
   "metadata": {},
   "outputs": [
    {
     "name": "stdout",
     "output_type": "stream",
     "text": [
      "The sum is: 16.375\n"
     ]
    }
   ],
   "source": [
    " \n",
    "'''9. Write a program in python to display the sum of the series [ 1+x+x^2/2!+x^3/3!+....]. Go to\n",
    "the editor\n",
    "Test Data :\n",
    "Input the value of x :3\n",
    "Input number of terms : 5\n",
    "Expected Output :\n",
    "The sum is : 16.375000'''\n",
    "\n",
    "a=int(input(\"Input the value of x :\"))\n",
    "num=int(input(\"Input the number of terms :\"))\n",
    "res = 1.0\n",
    "fact = 1\n",
    "for i in range(1, num):\n",
    "   fact *= i\n",
    "   res = res + (pow(a,i)/ fact)\n",
    "print(\"The sum is:\", res)\n",
    "\n",
    "\n"
   ]
  },
  {
   "cell_type": "code",
   "execution_count": 22,
   "metadata": {},
   "outputs": [
    {
     "name": "stdout",
     "output_type": "stream",
     "text": [
      "The value of the series: 2\n",
      "The value of the series: -8\n",
      "The value of the series: 32\n",
      "The value of the series: -128\n",
      "The value of the series: 512\n",
      "The sum is: 410\n"
     ]
    }
   ],
   "source": [
    "'''10. Write a program in python to find the sum of the series [ x - x^3 + x^5 + ......]. Go to the editor\n",
    "Test Data :\n",
    "Input the value of x :2\n",
    "Input number of terms : 5\n",
    "Expected Output :\n",
    "The values of the series:\n",
    "2\n",
    "-8\n",
    "32\n",
    "-128\n",
    "512\n",
    "The sum = 410'''\n",
    "\n",
    "a=int(input(\"Input the value of x :\"))\n",
    "num=int(input(\"Input the number of terms :\"))\n",
    "res = 0\n",
    "j=0\n",
    "b=1\n",
    "for i in range(0,num):\n",
    "    j+=1\n",
    "    op=(pow(a,b)*pow(-1,j+1))\n",
    "    b+=2\n",
    "    res = res + op\n",
    "    print(\"The value of the series:\",op)\n",
    "print(\"The sum is:\", res)\n",
    "\n"
   ]
  },
  {
   "cell_type": "code",
   "execution_count": null,
   "metadata": {},
   "outputs": [],
   "source": []
  }
 ],
 "metadata": {
  "interpreter": {
   "hash": "8472c49774e88a00aabd3f3607337df9d93343567da3242f839f648923139f50"
  },
  "kernelspec": {
   "display_name": "Python 3.9.2 64-bit",
   "name": "python3"
  },
  "language_info": {
   "codemirror_mode": {
    "name": "ipython",
    "version": 3
   },
   "file_extension": ".py",
   "mimetype": "text/x-python",
   "name": "python",
   "nbconvert_exporter": "python",
   "pygments_lexer": "ipython3",
   "version": "3.9.2"
  },
  "orig_nbformat": 4
 },
 "nbformat": 4,
 "nbformat_minor": 2
}
