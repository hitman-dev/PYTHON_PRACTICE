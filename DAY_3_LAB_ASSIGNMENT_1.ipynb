{
 "cells": [
  {
   "cell_type": "code",
   "execution_count": 1,
   "metadata": {},
   "outputs": [
    {
     "name": "stdout",
     "output_type": "stream",
     "text": [
      "Mo Tu We Th Fr Sa Su\n",
      "                1  2  \n",
      " 3  4  5  6  7  8  9  \n",
      "10 11 12 13 14 15 16  \n",
      "17 18 19 20 21 22 23  \n",
      "24 25 26 27 28 29 30  \n",
      "31 "
     ]
    }
   ],
   "source": [
    "'''1. Write a program that asks the user how many days are in a month, and what day of the\n",
    "week the month begins on (0 for Monday, 1 for Tuesday, etc), and then prints a calendar for that\n",
    "month.\n",
    "For example, here is the output for a 31-day month that begins on day 5 (Saturday)'''\n",
    "\n",
    "def calendar(n, s):\n",
    " if s == \"0\":\n",
    "    d = 0\n",
    " elif s == \"1\":\n",
    "    d = 1\n",
    " elif s == \"2\":\n",
    "    d = 2\n",
    " elif s == \"3\":\n",
    "    d = 3\n",
    " elif s == \"4\":\n",
    "    d = 4\n",
    " elif s == \"5\":\n",
    "    d = 5\n",
    " elif s == \"6\":\n",
    "    d = 6\n",
    " \n",
    " print (\"Mo Tu We Th Fr Sa Su\")\n",
    " for j in range(d):\n",
    "    print (\"  \", end = \" \"),\n",
    " i = 1\n",
    " while i <= n:\n",
    "   if i < 10:\n",
    "      print (\"\",i,end=\" \"),\n",
    "   else:\n",
    "      print(i,end=\" \"),\n",
    "   if(i + d) % 7 == 0: \n",
    "      print (\" \")\n",
    "   i = i + 1\n",
    " \n",
    "n = int(input(\"Input the number of days in the month (28-31): \"))\n",
    "s = input(\"Input the starting day (0=Mon,1=Tue,2=Wed,3=Thu,4=Fri,5=Sat,6=Sun): \")\n",
    "calendar(n,s)"
   ]
  },
  {
   "cell_type": "code",
   "execution_count": 2,
   "metadata": {},
   "outputs": [
    {
     "name": "stdout",
     "output_type": "stream",
     "text": [
      "****\n",
      "*********\n",
      "*******\n"
     ]
    }
   ],
   "source": [
    "'''2. Define a procedure histogram() that takes a list of integers and prints a histogram to the\n",
    "screen. For\n",
    "example, histogram([4, 9, 7]) should print the following:\n",
    "****\n",
    "*********\n",
    "*******\n",
    "'''\n",
    "\n",
    "def histogram( items ):\n",
    "    for n in items:\n",
    "        output = ''\n",
    "        times = n\n",
    "        while( times > 0 ):\n",
    "          output += '*'\n",
    "          times = times - 1\n",
    "        print(output)\n",
    "\n",
    "histogram([4,9,7])\n"
   ]
  },
  {
   "cell_type": "code",
   "execution_count": 1,
   "metadata": {},
   "outputs": [
    {
     "name": "stdout",
     "output_type": "stream",
     "text": [
      "True\n",
      "True\n",
      "True\n",
      "True\n",
      "True\n",
      "True\n",
      "True\n",
      "True\n",
      "True\n",
      "False\n"
     ]
    }
   ],
   "source": [
    "'''3. Write a version of a palindrome recognizer that also accepts phrase palindromes such as\n",
    "\"Go hang a salami I'm a lasagna hog.\", \"Was it a rat I saw?\", \"Step on no pets\", \"Sit on a\n",
    "potato pan, Otis\", \"Lisa Bonet ate no basil\", \"Satan, oscillate my metallic sonatas\", \"I roamed\n",
    "under it as a tired nude Maori\", \"Rise to vote sir\", or the exclamation \"Dammit, I'm mad!\".\n",
    "Note that punctuation, capitalization, and spacing are usually ignored.'''\n",
    "\n",
    "import string\n",
    "\n",
    "ignored = string.punctuation + \" \"\n",
    "\n",
    "def is_palindrome(str):\n",
    "  cleanstr = \"\"\n",
    "  for i in str:\n",
    "    cleanstr += \"\" if i in ignored else i\n",
    "  return cleanstr.lower() == cleanstr[::-1].lower()\n",
    "\n",
    "print (is_palindrome(\"Go hang a salami I'm a lasagna hog.\"))\n",
    "print (is_palindrome(\"Was it a rat I saw?\"))\n",
    "print (is_palindrome(\"Step on no pets\"))\n",
    "print (is_palindrome(\"Sit on a potato pan, Otis!\"))\n",
    "print (is_palindrome(\"Lisa Bonet ate no basil\"))\n",
    "print (is_palindrome(\"Satan, oscillate my metallic sonatas\"))\n",
    "print (is_palindrome(\"I roamed under it as a tired nude Maori\"))\n",
    "print (is_palindrome(\"Rise to vote sir\"))\n",
    "print (is_palindrome(\"Dammit, I'm mad!\"))\n",
    "print((is_palindrome(\"I am Iron man\")))"
   ]
  },
  {
   "cell_type": "code",
   "execution_count": 3,
   "metadata": {},
   "outputs": [
    {
     "name": "stdout",
     "output_type": "stream",
     "text": [
      "Yes\n"
     ]
    }
   ],
   "source": [
    "'''4. A pangram is a sentence that contains all the letters of the English alphabet at least once, for\n",
    "example: The quick brown fox, jumps over the lazy dog!!!!.\n",
    "Your task here is to write a function to check a sentence to see if it is a pangram or not'''\n",
    "\n",
    "import string\n",
    "  \n",
    "def ispangram(str):\n",
    "    alphabet = \"abcdefghijklmnopqrstuvwxyz\"\n",
    "    for char in alphabet:\n",
    "        if char not in str.lower():\n",
    "            return False\n",
    "  \n",
    "    return True\n",
    "      \n",
    "string = 'the quick brown fox jumps over the lazy dog!!!'\n",
    "if(ispangram(string) == True):\n",
    "    print(\"Yes\")\n",
    "else:\n",
    "    print(\"No\")"
   ]
  }
 ],
 "metadata": {
  "interpreter": {
   "hash": "8472c49774e88a00aabd3f3607337df9d93343567da3242f839f648923139f50"
  },
  "kernelspec": {
   "display_name": "Python 3.9.2 64-bit",
   "name": "python3"
  },
  "language_info": {
   "codemirror_mode": {
    "name": "ipython",
    "version": 3
   },
   "file_extension": ".py",
   "mimetype": "text/x-python",
   "name": "python",
   "nbconvert_exporter": "python",
   "pygments_lexer": "ipython3",
   "version": "3.9.2"
  },
  "orig_nbformat": 4
 },
 "nbformat": 4,
 "nbformat_minor": 2
}
