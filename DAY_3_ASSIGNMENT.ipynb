{
 "cells": [
  {
   "cell_type": "code",
   "execution_count": 1,
   "metadata": {},
   "outputs": [
    {
     "name": "stdout",
     "output_type": "stream",
     "text": [
      "count occurance cat 3\n",
      "positions from reverse side 39\n"
     ]
    }
   ],
   "source": [
    "s=\"Tis is cat, cat is cute, where is your cat\"\n",
    "print(\"count occurance cat\",s.count(\"cat\"))\n",
    "\n",
    "# find (string to search,start,end)\n",
    "pos=s.rfind(\"cat\")\n",
    "print(\"positions from reverse side\",pos)"
   ]
  },
  {
   "cell_type": "code",
   "execution_count": 1,
   "metadata": {},
   "outputs": [
    {
     "name": "stdout",
     "output_type": "stream",
     "text": [
      "y this is \n",
      "xxxxy this is xxx\n"
     ]
    }
   ],
   "source": [
    "s=\"xxxxy this is xxx\"\n",
    "s1=s.strip(\"x\")\n",
    "print(s1)\n",
    "print(s)"
   ]
  },
  {
   "cell_type": "code",
   "execution_count": 2,
   "metadata": {},
   "outputs": [
    {
     "name": "stdout",
     "output_type": "stream",
     "text": [
      "['xxxx1234', 'Rajan', 'w', '3456', '9-00am']\n",
      "1234\n",
      "xxxxy this is xxx\n"
     ]
    }
   ],
   "source": [
    "s1=\"xxxx1234:Rajan:w:3456:9-00am\"\n",
    "lst=s1.split(\":\")\n",
    "print(lst)\n",
    "acno=lst[0]\n",
    "print(acno.lstrip(\"x\"))\n",
    "s2=\",\".join(lst)\n",
    "print(s)"
   ]
  },
  {
   "cell_type": "code",
   "execution_count": null,
   "metadata": {},
   "outputs": [],
   "source": [
    "s1=\"apple\"\n",
    "s2=s1\n",
    "s3=\"apple\"\n",
    "print(id(s1))\n",
    "print(id(s2))\n",
    "print(id(s3))\n",
    "s3=\"pear\"\n",
    "if s1 is s2:\n",
    "    print(\"found\")\n",
    "else:\n",
    "    print(\"not found\")\n",
    "if s1 is s3:\n",
    "    print(\"found\")\n",
    "else:\n",
    "    print(\"not found\")\n",
    "\n",
    " \n"
   ]
  },
  {
   "cell_type": "code",
   "execution_count": 4,
   "metadata": {},
   "outputs": [
    {
     "name": "stdout",
     "output_type": "stream",
     "text": [
      "Original String is kjfgh\n",
      "Middle three charscters of the above string are: jfg\n"
     ]
    }
   ],
   "source": [
    "'''1. Given a string of odd length greater than 7, return a new string made of the middle three\n",
    "characters of a given String\n",
    "Given:\n",
    "str1 = \"RakeshzipPetabb\"\n",
    "Output\n",
    " zip\n",
    "str2 = \"JazzbonAyxx\"\n",
    "Output\n",
    "bon\n",
    "'''    \n",
    "str1=input(\"Enter any string:\")\n",
    "print(\"Original String is\", str1)\n",
    "mi = int(len(str1) / 2)\n",
    "res = str1[mi - 1:mi + 2]\n",
    "print(\"Middle three charscters of the above string are:\", res)\n",
    "\n"
   ]
  },
  {
   "cell_type": "code",
   "execution_count": null,
   "metadata": {},
   "outputs": [],
   "source": [
    "'''2. Given two strings, s1 and s2, create a new string by appending s2 in the middle of s1\n",
    "Given:\n",
    "s1 = \"Ault\"\n",
    "s2 = \"Kelly\"\n",
    "Expected Output:\n",
    "AuKellylt'''\n",
    "\n",
    "s1=str(input(\"Enter striing s1:\"))\n",
    "s2=str(input(\"Enter striing s2:\"))\n",
    "print(\"String s1 is: \", s1)\n",
    "print(\"String s1 is: \", s2)\n",
    "mi = int(len(s1) / 2)\n",
    "x = s1[:mi:]\n",
    "x = x + s2\n",
    "x = x + s1[mi:]\n",
    "print(\"After appending new string in middle:\", x)"
   ]
  },
  {
   "cell_type": "code",
   "execution_count": 13,
   "metadata": {},
   "outputs": [
    {
     "name": "stdout",
     "output_type": "stream",
     "text": [
      "Mix String is  AJrpan\n"
     ]
    }
   ],
   "source": [
    "'''3. two strings, s1, and s2 return a new string made of the first, middle, and last characters each\n",
    "input string\n",
    "Given:\n",
    "s1 = \"America\"\n",
    "s2 = \"Japan\"\n",
    "Expected Output:\n",
    "AJrpan'''\n",
    "\n",
    "def mix_string(s1, s2):\n",
    " first_char = s1[:1] + s2[:1]\n",
    " middle_char = s1[int(len(s1) / 2):int(len(s1) / 2) + 1] + s2[int(len(s2) / 2):int(len(s2)/ 2) + 1]\n",
    " last_char = s1[len(s1) - 1] + s2[len(s2) - 1]\n",
    " res = first_char + middle_char + last_char\n",
    " print(\"Mix String is \", res)\n",
    "s1 = \"America\"\n",
    "s2 = \"Japan\"\n",
    "mix_string(s1, s2)"
   ]
  },
  {
   "cell_type": "code",
   "execution_count": 14,
   "metadata": {},
   "outputs": [
    {
     "name": "stdout",
     "output_type": "stream",
     "text": [
      "Original String: PYnAtivE\n",
      "Result: ntivPYAE\n"
     ]
    }
   ],
   "source": [
    "'''4. Given an input string with the combination of the lower and upper case arrange characters\n",
    "in such a way that all lowercase letters should come first.'''\n",
    "\n",
    "str1 = \"PYnAtivE\"\n",
    "print('Original String:', str1)\n",
    "lower = []\n",
    "upper = []\n",
    "for char in str1:\n",
    "    if char.islower():\n",
    "        lower.append(char)\n",
    "    else:\n",
    "        upper.append(char)\n",
    "sorted_str = ''.join(lower + upper)\n",
    "print('Result:', sorted_str)"
   ]
  },
  {
   "cell_type": "code",
   "execution_count": 15,
   "metadata": {},
   "outputs": [
    {
     "name": "stdout",
     "output_type": "stream",
     "text": [
      "AzbycX\n"
     ]
    }
   ],
   "source": [
    "'''5. create a third-string made of the first char of s1 then the last char of s2, Next, the second\n",
    "char of s1 and second last char of s2, and so on. Any leftover chars go at the end of the\n",
    "result.\n",
    "Given:\n",
    "s1 = \"Abc\"\n",
    "s2 = \"Xyz\"\n",
    "Expected Output:\n",
    "AzbycX'''\n",
    "\n",
    "s1 = \"Abc\"\n",
    "s2 = \"Xyz\"\n",
    "s1_length = len(s1)\n",
    "s2_length = len(s2)\n",
    "length = s1_length if s1_length > s2_length else s2_length\n",
    "result = \"\"\n",
    "s2 = s2[::-1]\n",
    "for i in range(length):\n",
    "    if i < s1_length:\n",
    "        result = result + s1[i]\n",
    "    if i < s2_length:\n",
    "        result = result + s2[i]\n",
    "\n",
    "print(result)\n"
   ]
  },
  {
   "cell_type": "code",
   "execution_count": 16,
   "metadata": {},
   "outputs": [
    {
     "name": "stdout",
     "output_type": "stream",
     "text": [
      "The USA count is: 2\n"
     ]
    }
   ],
   "source": [
    "'''6. Find all occurrences of “USA” from right to left in a given string ignoring the case. also\n",
    "display the position\n",
    "Given:\n",
    "str1 = \"Welcome to USA. usa awesome, isn't it?'''\n",
    "\n",
    "str1 = \"Welcome to USA. usa awesome, isn't it?\"\n",
    "sub_string = \"USA\"\n",
    "temp_str = str1.lower()\n",
    "count = temp_str.count(sub_string.lower())\n",
    "print(\"The USA count is:\", count)"
   ]
  }
 ],
 "metadata": {
  "interpreter": {
   "hash": "8472c49774e88a00aabd3f3607337df9d93343567da3242f839f648923139f50"
  },
  "kernelspec": {
   "display_name": "Python 3.9.2 64-bit",
   "name": "python3"
  },
  "language_info": {
   "codemirror_mode": {
    "name": "ipython",
    "version": 3
   },
   "file_extension": ".py",
   "mimetype": "text/x-python",
   "name": "python",
   "nbconvert_exporter": "python",
   "pygments_lexer": "ipython3",
   "version": "3.9.2"
  },
  "orig_nbformat": 4
 },
 "nbformat": 4,
 "nbformat_minor": 2
}
