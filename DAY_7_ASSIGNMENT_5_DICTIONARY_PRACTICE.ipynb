{
 "cells": [
  {
   "cell_type": "code",
   "execution_count": 1,
   "metadata": {},
   "outputs": [
    {
     "name": "stdout",
     "output_type": "stream",
     "text": [
      "{'Ten': 10, 'Twenty': 20, 'Thirty': 30}\n"
     ]
    }
   ],
   "source": [
    "'''1. the two lists convert it into the dictionary\n",
    "keys = ['Ten', 'Twenty', 'Thirty']\n",
    "values = [10, 20, 30]\n",
    "Expected output:\n",
    "{'Ten': 10, 'Twenty': 20, 'Thirty': 30}'''\n",
    "\n",
    "keys = ['Ten', 'Twenty', 'Thirty']\n",
    "values = [10, 20, 30]\n",
    "\n",
    "sampleDict = dict(zip(keys, values))\n",
    "print(sampleDict)"
   ]
  },
  {
   "cell_type": "code",
   "execution_count": 2,
   "metadata": {},
   "outputs": [
    {
     "name": "stdout",
     "output_type": "stream",
     "text": [
      "{'Ten': 10, 'Twenty': 20, 'Thirty': 30, 'Fourty': 40, 'Fifty': 50}\n"
     ]
    }
   ],
   "source": [
    "'''2. Merge following two Python dictionaries into one\n",
    "dict1 = {'Ten': 10, 'Twenty': 20, 'Thirty': 30}\n",
    "dict2 = {'Thirty': 30, 'Fourty': 40, 'Fifty': 50}\n",
    "Expected output:\n",
    "{'Ten': 10, 'Twenty': 20, 'Thirty': 30, 'Fourty': 40, 'Fifty': 50}\n",
    "Solution:\n",
    "dict1 = {'Ten': 10, 'Twenty': 20, 'Thirty': 30}\n",
    "dict2 = {'Thirty': 30, 'Fourty': 40, 'Fifty': 50}\n",
    "# ** operator unpack the dictionary and then merge bot dictionaries\n",
    "dict3 = {**dict1, **dict2}\n",
    "print(dict3)'''\n",
    "\n",
    "dict1 = {'Ten': 10, 'Twenty': 20, 'Thirty': 30}\n",
    "dict2 = {'Thirty': 30, 'Fourty': 40, 'Fifty': 50}\n",
    "dict3 = {**dict1, **dict2}\n",
    "print(dict3)\n",
    "\n",
    "#OR\n",
    "\n",
    "dict1 = {\"Ten\": 10, \"Twenty\": 20, \"Thirty\": 30}\n",
    "dict2 = {\"Thirty\": 30, \"Fourty\": 40, \"Fifty\": 50}\n",
    "dict1.update(dict2)\n",
    "print(dict1)"
   ]
  },
  {
   "cell_type": "code",
   "execution_count": 1,
   "metadata": {},
   "outputs": [
    {
     "name": "stdout",
     "output_type": "stream",
     "text": [
      "80\n"
     ]
    }
   ],
   "source": [
    "'''3. Display the value of key history from the following dictionary\n",
    "the value of key ‘history’ from the below dict\n",
    "sampleDict = {\n",
    " \"class\":{\n",
    " \"student\":{\n",
    " \"name\":\"Mike\",\n",
    " \"marks\":{\n",
    " \"physics\":70,\n",
    " \"history\":80\n",
    " }\n",
    " }\n",
    " }\n",
    "}'''\n",
    "sampleDict = {\"class\":{\"student\":{\"name\":\"Mike\",\"marks\":{\"physics\":70,\"history\":80}}}}\n",
    "print(sampleDict['class']['student']['marks']['history'])"
   ]
  },
  {
   "cell_type": "code",
   "execution_count": 7,
   "metadata": {},
   "outputs": [
    {
     "name": "stdout",
     "output_type": "stream",
     "text": [
      "{'age': 25, 'salary': 8000, 'city': 'New york'}\n"
     ]
    }
   ],
   "source": [
    "'''4. Delete set of keys from a dictionary\n",
    "Given:\n",
    "sampleDict = {\n",
    " \"name\": \"Kelly\",\n",
    " \"age\":25,\n",
    " \"salary\": 8000,\n",
    " \"city\": \"New york\"\n",
    "\n",
    "}\n",
    "keysToRemove = [\"name\", \"salary\"]'''\n",
    "\n",
    "sampleDict = {\n",
    "  \"name\": \"Kelly\",\n",
    "  \"age\":25,\n",
    "  \"salary\": 8000,\n",
    "  \"city\": \"New york\"\n",
    "}\n",
    "keysToRemove = [\"name\", \"salary\"]\n",
    "\n",
    "if k in keysToRemove:\n",
    "    del sampleDict[k]\n",
    "print(sampleDict)\n",
    "\n",
    "#or\n",
    "\n",
    "sampleDict = {\"name\": \"Kelly\", \"age\": 25, \"salary\": 8000, \"city\": \"New york\"}\n",
    "keysToRemove = [\"name\", \"salary\"]\n",
    "for key in keysToRemove:\n",
    "    sampleDict.pop(key)\n",
    "print(sampleDict)\n",
    "\n",
    "#or\n",
    "\n",
    "sampleDict = {k: sampleDict[k] for k in sampleDict.keys() - keysToRemove}\n",
    "print(sampleDict)\n"
   ]
  },
  {
   "cell_type": "code",
   "execution_count": 11,
   "metadata": {},
   "outputs": [
    {
     "name": "stdout",
     "output_type": "stream",
     "text": [
      "b -----> 200\n",
      "d -----> 200\n"
     ]
    }
   ],
   "source": [
    "'''5. display all the keys with value 200 from the following dictionary.\n",
    "sampleDict = {'a': 100, 'b': 200, 'c': 300,’d’:200}'''\n",
    "\n",
    "sampleDict = {'a': 100, 'b': 200, 'c': 300, 'd':200}\n",
    "val=200\n",
    "for k in sampleDict.keys():\n",
    "    if sampleDict[k] == val:\n",
    "      print(k,\"----->\",sampleDict[k])\n"
   ]
  },
  {
   "cell_type": "code",
   "execution_count": 27,
   "metadata": {},
   "outputs": [
    {
     "name": "stdout",
     "output_type": "stream",
     "text": [
      "{'name': 'Kelly', 'age': 25, 'salary': 8000, 'location': 'New york'}\n"
     ]
    }
   ],
   "source": [
    "'''6. Rename key city to location in the following dictionary\n",
    "sampleDict = {\n",
    " \"name\": \"Kelly\",\n",
    " \"age\":25,\n",
    " \"salary\": 8000,\n",
    " \"city\": \"New york\"\n",
    "}\n",
    "Expected output:\n",
    "{\n",
    " \"name\": \"Kelly\",\n",
    " \"age\":25,\n",
    " \"salary\": 8000,\n",
    " \"location\": \"New york\"\n",
    "}'''\n",
    "\n",
    "sampleDict = {\n",
    "  \"name\": \"Kelly\",\n",
    "  \"age\":25,\n",
    "  \"salary\": 8000,\n",
    "  \"city\": \"New york\"\n",
    "}\n",
    "\n",
    "sampleDict['location'] = sampleDict.pop('city')\n",
    "print(sampleDict)"
   ]
  },
  {
   "cell_type": "code",
   "execution_count": 29,
   "metadata": {},
   "outputs": [
    {
     "name": "stdout",
     "output_type": "stream",
     "text": [
      "Physics\n"
     ]
    }
   ],
   "source": [
    "'''7. display the key of a maximum value from the following dictionary\n",
    "sampleDict = {\n",
    " 'Physics': 82,\n",
    " 'Math': 65,\n",
    " 'history': 75\n",
    "}'''\n",
    "\n",
    "sampleDict = {\n",
    "  'Physics': 82,\n",
    "  'Math': 65,\n",
    "  'history': 75\n",
    "}\n",
    "print(max(sampleDict, key=sampleDict.get))"
   ]
  },
  {
   "cell_type": "code",
   "execution_count": 5,
   "metadata": {},
   "outputs": [
    {
     "name": "stdout",
     "output_type": "stream",
     "text": [
      "{'emp1': {'name': 'Jhon', 'salary': 7500}, 'emp2': {'name': 'Emma', 'salary': 8000}, 'emp3': {'name': 'Brad', 'salary': 6500}}\n",
      "salary modified\n",
      "{'emp1': {'name': 'Jhon', 'salary': 7500}, 'emp2': {'name': 'Emma', 'salary': 9000}, 'emp3': {'name': 'Brad', 'salary': 6500}}\n"
     ]
    }
   ],
   "source": [
    "'''8. Accept name and new salary for a employee, modify salary of the employee. display\n",
    "appropriate message if salary modified. or if name not found.\n",
    "note : the new salary should be > current salary otherwise show message wrong salary.\n",
    "sampleDict = {\n",
    " 'emp1': {'name': 'Jhon', 'salary': 7500},\n",
    " 'emp2': {'name': 'Emma', 'salary': 8000},\n",
    " 'emp3': {'name': 'Brad', 'salary': 6500}\n",
    "}'''\n",
    "\n",
    "sampleDict = {\n",
    "    \"emp1\": {\"name\": \"Jhon\", \"salary\": 7500},\n",
    "    \"emp2\": {\"name\": \"Emma\", \"salary\": 8000},\n",
    "    \"emp3\": {\"name\": \"Brad\", \"salary\": 6500},\n",
    "}\n",
    "newName = input(\"enter name: \")\n",
    "newSalary = int(input(\"enter salary: \"))\n",
    "print(sampleDict)\n",
    "\n",
    "def switch(empid,newSalary):\n",
    "    if newSalary > details[\"salary\"]:\n",
    "        sampleDict[empid][\"salary\"] = newSalary\n",
    "        return True\n",
    "    else:\n",
    "        return False\n",
    "namelist = [name for element in list(sampleDict.values()) for name in element.values()]\n",
    "if newName not in namelist:\n",
    "    print(\"wrong name\")\n",
    "for empid, details in sampleDict.items():\n",
    "    if newName == details['name']:\n",
    "        status = switch(empid,newSalary)\n",
    "        if status == True:\n",
    "            print(\"salary modified\")\n",
    "        elif status == False:\n",
    "            print(\"wrong salary\")\n",
    "print(sampleDict)"
   ]
  }
 ],
 "metadata": {
  "interpreter": {
   "hash": "8472c49774e88a00aabd3f3607337df9d93343567da3242f839f648923139f50"
  },
  "kernelspec": {
   "display_name": "Python 3.9.2 64-bit",
   "name": "python3"
  },
  "language_info": {
   "codemirror_mode": {
    "name": "ipython",
    "version": 3
   },
   "file_extension": ".py",
   "mimetype": "text/x-python",
   "name": "python",
   "nbconvert_exporter": "python",
   "pygments_lexer": "ipython3",
   "version": "3.9.2"
  },
  "orig_nbformat": 4
 },
 "nbformat": 4,
 "nbformat_minor": 2
}
