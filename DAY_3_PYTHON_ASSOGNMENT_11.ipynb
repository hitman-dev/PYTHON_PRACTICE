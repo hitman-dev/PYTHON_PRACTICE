{
 "cells": [
  {
   "cell_type": "code",
   "execution_count": 2,
   "metadata": {},
   "outputs": [
    {
     "name": "stdout",
     "output_type": "stream",
     "text": [
      "****\n",
      "*********\n",
      "*******\n"
     ]
    }
   ],
   "source": [
    "'''1. Define a procedure histogram() that takes a list of integers and prints a histogram to the\n",
    "screen. For\n",
    "example, histogram([4, 9, 7]) should print the following:\n",
    "****\n",
    "*********\n",
    "*******'''\n",
    "\n",
    "def histogram( items ):\n",
    "    for n in items:\n",
    "        output = ''\n",
    "        times = n\n",
    "        while( times > 0 ):\n",
    "          output += '*'\n",
    "          times = times - 1\n",
    "        print(output)\n",
    "\n",
    "histogram([4,9,7])\n"
   ]
  },
  {
   "cell_type": "code",
   "execution_count": 9,
   "metadata": {},
   "outputs": [
    {
     "name": "stdout",
     "output_type": "stream",
     "text": [
      "True\n",
      "True\n",
      "True\n",
      "True\n",
      "True\n",
      "True\n",
      "True\n",
      "True\n",
      "True\n",
      "False\n"
     ]
    }
   ],
   "source": [
    "'''2. Write a version of a palindrome recognizer that also accepts phrase palindromes such as\n",
    "\"Go hang a salami I'm a lasagna hog.\", \"Was it a rat I saw?\", \"Step on no pets\", \"Sit on a\n",
    "potato pan, Otis\", \"Lisa Bonet ate no basil\", \"Satan, oscillate my metallic sonatas\", \"I roamed\n",
    "under it as a tired nude Maori\", \"Rise to vote sir\", or the exclamation \"Dammit, I'm mad!\".\n",
    "Note that punctuation, capitalization, and spacing are usually ignored.'''\n",
    "\n",
    "import string\n",
    "\n",
    "ignored = string.punctuation + \" \"\n",
    "\n",
    "def is_palindrome(str):\n",
    "  cleanstr = \"\"\n",
    "  for i in str:\n",
    "    cleanstr += \"\" if i in ignored else i\n",
    "  return cleanstr.lower() == cleanstr[::-1].lower()\n",
    "\n",
    "print (is_palindrome(\"Go hang a salami I'm a lasagna hog.\"))\n",
    "print (is_palindrome(\"Was it a rat I saw?\"))\n",
    "print (is_palindrome(\"Step on no pets\"))\n",
    "print (is_palindrome(\"Sit on a potato pan, Otis!\"))\n",
    "print (is_palindrome(\"Lisa Bonet ate no basil\"))\n",
    "print (is_palindrome(\"Satan, oscillate my metallic sonatas\"))\n",
    "print (is_palindrome(\"I roamed under it as a tired nude Maori\"))\n",
    "print (is_palindrome(\"Rise to vote sir\"))\n",
    "print (is_palindrome(\"Dammit, I'm mad!\"))\n",
    "print((is_palindrome(\"I am Iron man\")))"
   ]
  },
  {
   "cell_type": "code",
   "execution_count": 12,
   "metadata": {},
   "outputs": [
    {
     "name": "stdout",
     "output_type": "stream",
     "text": [
      "Yes\n"
     ]
    }
   ],
   "source": [
    "'''3. A pangram is a sentence that contains all the letters of the English alphabet at least once, for\n",
    "example: The quick brown fox, jumps over the lazy dog!!!!.\n",
    "Your task here is to write a function to check a sentence to see if it is a pangram or not'''\n",
    "\n",
    "import string\n",
    "  \n",
    "def ispangram(str):\n",
    "    alphabet = \"abcdefghijklmnopqrstuvwxyz\"\n",
    "    for char in alphabet:\n",
    "        if char not in str.lower():\n",
    "            return False\n",
    "  \n",
    "    return True\n",
    "      \n",
    "string = 'the quick brown fox jumps over the lazy dog!!!'\n",
    "if(ispangram(string) == True):\n",
    "    print(\"Yes\")\n",
    "else:\n",
    "    print(\"No\")"
   ]
  },
  {
   "cell_type": "code",
   "execution_count": 13,
   "metadata": {},
   "outputs": [
    {
     "name": "stdout",
     "output_type": "stream",
     "text": [
      "tothohisos isos fofunon\n"
     ]
    }
   ],
   "source": [
    "'''4. Write a function translate() that will translate a text into \"rövarspråket\" (Swedish for \"robber's\n",
    "language\").\n",
    "That is, double every consonant and place an occurrence of \"o\" in between.\n",
    "For example, translate(\"this is fun\") should return the string \"tothohisos isos fofunon\".'''\n",
    "\n",
    "def translate(str):\n",
    "    consonants='bcdfghjklmnpqrstvwxyz'\n",
    "    print(\"\".join(l+'o'+l if l in consonants else l for l in str))\n",
    "\n",
    "string = \"this is fun\"\n",
    "translate(string)"
   ]
  },
  {
   "cell_type": "code",
   "execution_count": 15,
   "metadata": {},
   "outputs": [
    {
     "data": {
      "text/plain": [
       "'tothohisos isos fofunon'"
      ]
     },
     "execution_count": 15,
     "metadata": {},
     "output_type": "execute_result"
    }
   ],
   "source": [
    "def translate(str):\n",
    "    vowel = ['a', 'e', 'i', 'o', 'u']\n",
    "    tra=[]\n",
    "    for vov in str:\n",
    "            if vov in vowel:\n",
    "                tra.append(vov)\n",
    "            elif vov==\" \":\n",
    "                tra.append(vov)\n",
    "            else:\n",
    "                tra.append((vov+'o'+vov))\n",
    "    return(''.join(tra))\n",
    "string = \"this is fun\"\n",
    "translate(string)"
   ]
  },
  {
   "cell_type": "code",
   "execution_count": 21,
   "metadata": {},
   "outputs": [
    {
     "name": "stdout",
     "output_type": "stream",
     "text": [
      "Factorial of 1 is: 1\n",
      "Factorial of 2 is: 2\n",
      "Factorial of 3 is: 6\n",
      "Factorial of 4 is: 24\n",
      "Factorial of 5 is: 120\n",
      "Factorial of 6 is: 720\n",
      "Factorial of 7 is: 5040\n",
      "Factorial of 8 is: 40320\n",
      "Factorial of 9 is: 362880\n",
      "Factorial of 10 is: 3628800\n",
      "Factorial of 11 is: 39916800\n",
      "Factorial of 12 is: 479001600\n",
      "Factorial of 13 is: 6227020800\n",
      "Factorial of 14 is: 87178291200\n",
      "Factorial of 15 is: 1307674368000\n",
      "Factorial of 16 is: 20922789888000\n",
      "Factorial of 17 is: 355687428096000\n",
      "Factorial of 18 is: 6402373705728000\n",
      "Factorial of 19 is: 121645100408832000\n",
      "Factorial of 20 is: 2432902008176640000\n"
     ]
    }
   ],
   "source": [
    "'''5. Write a program that contains a function that has one parameter, n, representing an integer\n",
    "greater than 0. The function should return n! (n factorial). Then write a main function that calls\n",
    "this function with the values 1 through 20, one at a time, printing the returned results. This is\n",
    "what your output should look like:\n",
    "1 1\n",
    "2 2\n",
    "3 6\n",
    "4 24\n",
    "5 120\n",
    "6 720\n",
    "7 5040\n",
    "8 40320\n",
    "9 362880\n",
    "10 628800'''\n",
    "\n",
    "def factorial(n):\n",
    "    return 1 if (n == 1 or n == 0) else n * factorial(n - 1)\n",
    "def call():\n",
    "    i=1\n",
    "    for i in range(0,20):\n",
    "        i+=1\n",
    "        print(f\"Factorial of {i} is:\",factorial(i))\n",
    "\n",
    "call()"
   ]
  },
  {
   "cell_type": "code",
   "execution_count": 14,
   "metadata": {},
   "outputs": [
    {
     "name": "stdout",
     "output_type": "stream",
     "text": [
      "1+2+3+4+5+6+7+8+9+10\n"
     ]
    },
    {
     "data": {
      "text/plain": [
       "55"
      ]
     },
     "execution_count": 14,
     "metadata": {},
     "output_type": "execute_result"
    }
   ],
   "source": [
    "'''6. Write a recursive sum from 1 to x (i.e. 1 + 2 + ... + x) recursively as follows for integer x ≥ 1:\n",
    "1, if x = 1\n",
    "x + sum from 1 to x-1 if x > 1\n",
    "Complete the following Python program to compute the sum 1 + 2 + 3 + 4 + 5 + 6 + 7 + 8 + 9\n",
    "+ 10\n",
    "def main():\n",
    " # compute and print 1 + 2 + ... + 10\n",
    " print sum(10)\n",
    "def sum(x):\n",
    " # you complete this function recursively\n",
    "main()'''\n",
    "\n",
    "def recurSum(n):\n",
    "    if n <= 1:\n",
    "        return n\n",
    "    if n==1:\n",
    "        return 1\n",
    "    if n > 1:\n",
    "        return n + recurSum(n - 1)\n",
    "    print(recurSum(n))\n",
    "def main(n):\n",
    "    i=1\n",
    "    for i in range(1,n):\n",
    "      print(i, end=\"\"+\"+\")\n",
    "    print(n)\n",
    "      \n",
    "n = 10\n",
    "main(n)\n",
    "recurSum(n)"
   ]
  },
  {
   "cell_type": "code",
   "execution_count": 22,
   "metadata": {},
   "outputs": [
    {
     "name": "stdout",
     "output_type": "stream",
     "text": [
      "True\n",
      "False\n"
     ]
    }
   ],
   "source": [
    "'''7. Define a function overlapping() that takes two lists and returns True if they have at least one\n",
    "member in common, False otherwise.'''\n",
    "\n",
    "def overlapping(list1, list2):\n",
    "     for i in list1:\n",
    "        for j in list2:\n",
    "            if i == j:\n",
    "                return True\n",
    "\n",
    "     return False\n",
    "print(overlapping([1,2,3,4,5], [5,6,7,8,9]))\n",
    "print(overlapping([1,2,3,4,5], [6,7,8,9]))\n"
   ]
  },
  {
   "cell_type": "code",
   "execution_count": 32,
   "metadata": {},
   "outputs": [
    {
     "name": "stdout",
     "output_type": "stream",
     "text": [
      "The longest word from the string( i ma hitesh )is hitesh with length 6\n"
     ]
    }
   ],
   "source": [
    "'''8. Write a function find_longest_word() that takes a list of words and returns the length of the\n",
    "longest one.'''\n",
    "def find_longest_word(text):\n",
    "    longest_word = max(text.split(), key = len)\n",
    "    return longest_word\n",
    "def main():\n",
    "    input_string = input(\"Please input a list of words to evaluate: \")\n",
    "    longest_word = find_longest_word(input_string)\n",
    "    print(\"The longest word from the string(\",input_string,\")is\", longest_word, \"with length\",len(longest_word))\n",
    "\n",
    "main()"
   ]
  },
  {
   "cell_type": "code",
   "execution_count": 54,
   "metadata": {},
   "outputs": [
    {
     "name": "stdout",
     "output_type": "stream",
     "text": [
      "['Alpha', 'Gamma', 'Delta']\n",
      "['Alpha', 'Gamma', 'Delta']\n"
     ]
    }
   ],
   "source": [
    "'''9. Write a function filter_long_words() that takes a list of words and an integer n and returns the\n",
    "list of words that are longer than n'''\n",
    "\n",
    "def filter_long_words1(list_of_words, n):\n",
    "    filtered_list = []\n",
    "    for word in list_of_words:\n",
    "        if len(word) > n:\n",
    "            filtered_list.append(word)\n",
    "    return filtered_list\n",
    "\n",
    "def filter_long_words2(list_of_words, n):\n",
    "    return [word for word in list_of_words if len(word) > n]\n",
    " \n",
    "def main():\n",
    "    word_list = [\"Alpha\", \"Beta\", \"Gamma\", \"Delta\"]\n",
    "    print(filter_long_words1(word_list, 4))\n",
    "    print(filter_long_words2(word_list, 4))\n",
    "        \n",
    "\n",
    "main()"
   ]
  },
  {
   "cell_type": "code",
   "execution_count": 57,
   "metadata": {},
   "outputs": [
    {
     "name": "stdout",
     "output_type": "stream",
     "text": [
      "This is very funny and cool. Indeed!\n",
      "This is very funny and cool. Indeed. dasd\n"
     ]
    }
   ],
   "source": [
    "'''10. Define a simple \"spelling correction\" function correct() that takes a string and sees to it that\n",
    "1) two or more occurrences of the space character is compressed into one, and\n",
    "2) inserts an extra space after a period if the period is directly followed by a letter.\n",
    " e.g. correct(\"This is very funny and cool.Indeed!\")\n",
    " should return \"This is very funny and cool. Indeed!\"'''\n",
    "\n",
    "def correct(s):\n",
    "   s = s.replace(\".\", \". \")\n",
    "   s = \" \".join(s.split())\n",
    "   return s\n",
    "\n",
    "print(correct(\"This   is  very funny  and    cool.Indeed!\"))\n",
    "print(correct(\"This   is  very funny  and    cool.Indeed. dasd\"))\n"
   ]
  },
  {
   "cell_type": "code",
   "execution_count": 63,
   "metadata": {},
   "outputs": [
    {
     "name": "stdout",
     "output_type": "stream",
     "text": [
      "lying\n",
      "seeing\n",
      "moving\n",
      "hugging\n",
      "being\n",
      "fleeing\n",
      "kneeing\n"
     ]
    }
   ],
   "source": [
    "'''11. In English, present participle is formed by adding suffix -ing to infinite form: go -> going. A\n",
    "simple set of heuristic rules can be given as follows:\n",
    "If the verb ends in e, drop the e and add ing (if not exception: be, see, flee, knee, etc.)\n",
    "If the verb ends in ie, change ie to y and add ing\n",
    "For words consisting of consonant-vowel-consonant, double the final letter before adding\n",
    "ing\n",
    "By default just add ing\n",
    "Your task in this exercise is to define a function make_ing_form() which given a verb in\n",
    "infinitive form\n",
    "returns its present participle form. Test your function with words such as lie, see, move and\n",
    "hug.'''\n",
    "\n",
    "def make_ing_form(inputWord):\n",
    "     \n",
    "    if inputWord.endswith('ie'):\n",
    "        inputWord = inputWord.rstrip('ie')\n",
    "        pp_of_inputWord = inputWord+'y'+'ing'\n",
    "    elif inputWord.endswith('e') and (inputWord[-2].endswith('e') or len(inputWord) == 2):\n",
    "        pp_of_inputWord = inputWord+'ing'\n",
    "         \n",
    "    elif inputWord.endswith('e'):\n",
    "        inputWord = inputWord[:-1]\n",
    "        pp_of_inputWord = inputWord+'ing'\n",
    " \n",
    "    elif inputWord[-2] in 'aiou':\n",
    "        pp_of_inputWord = inputWord + inputWord[-1] + 'ing'\n",
    " \n",
    "    print(str(pp_of_inputWord))\n",
    " \n",
    "make_ing_form('lie')\n",
    "make_ing_form('see')\n",
    "make_ing_form('move')\n",
    "make_ing_form('hug')\n",
    "make_ing_form('be')\n",
    "make_ing_form('flee')\n",
    "make_ing_form('knee')\n",
    "                      "
   ]
  }
 ],
 "metadata": {
  "interpreter": {
   "hash": "8472c49774e88a00aabd3f3607337df9d93343567da3242f839f648923139f50"
  },
  "kernelspec": {
   "display_name": "Python 3.9.2 64-bit",
   "name": "python3"
  },
  "language_info": {
   "codemirror_mode": {
    "name": "ipython",
    "version": 3
   },
   "file_extension": ".py",
   "mimetype": "text/x-python",
   "name": "python",
   "nbconvert_exporter": "python",
   "pygments_lexer": "ipython3",
   "version": "3.9.2"
  },
  "orig_nbformat": 4
 },
 "nbformat": 4,
 "nbformat_minor": 2
}
