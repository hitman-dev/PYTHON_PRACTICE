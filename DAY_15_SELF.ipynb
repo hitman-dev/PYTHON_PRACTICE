{
 "cells": [
  {
   "cell_type": "code",
   "execution_count": 13,
   "metadata": {},
   "outputs": [],
   "source": [
    "from bs4 import BeautifulSoup as bs\n",
    "import requests\n",
    "import pandas as pd"
   ]
  },
  {
   "cell_type": "code",
   "execution_count": null,
   "metadata": {},
   "outputs": [],
   "source": [
    "import requests  \n",
    "from bs4 import BeautifulSoup\n",
    "import re\n",
    "\n",
    "url = 'https://www.amazon.in/s?k=mobile&ref=nb_sb_noss_2'\n",
    "response = requests.get(url)\n",
    "print(response.content)\n",
    "#print(response.text[:500])\n",
    "\n",
    "html_soup = BeautifulSoup(response.text, 'html.parser')\n",
    "type(html_soup)\n",
    "\n"
   ]
  },
  {
   "cell_type": "code",
   "execution_count": 10,
   "metadata": {},
   "outputs": [
    {
     "name": "stdout",
     "output_type": "stream",
     "text": [
      "<class 'bs4.element.ResultSet'>\n",
      "0\n",
      "[]\n"
     ]
    }
   ],
   "source": [
    "# names=[prd.h2.a.span.text for prd in amzon]\n",
    "# print(names)\n",
    "# price =[prd.find('span',class_='a-price-whole').text if prd.find('span',class_='a-price-whole') != None else 0 for prd in amzon   ]\n",
    "# print(price)\n"
   ]
  },
  {
   "cell_type": "code",
   "execution_count": 8,
   "metadata": {},
   "outputs": [
    {
     "name": "stdout",
     "output_type": "stream",
     "text": [
      "<class 'bs4.element.ResultSet'>\n",
      "2\n",
      "[<div class=\"a-section\">\n",
      "<div class=\"a-box a-color-offset-background\">\n",
      "<div class=\"a-box-inner a-padding-extra-large\">\n",
      "<form action=\"/errors/validateCaptcha\" method=\"get\" name=\"\">\n",
      "<input name=\"amzn\" type=\"hidden\" value=\"/SvbpEit55/6170xbSDFKg==\"/><input name=\"amzn-r\" type=\"hidden\" value=\"/s?k=mobile&amp;ref=nb_sb_noss_2\"/>\n",
      "<div class=\"a-row a-spacing-large\">\n",
      "<div class=\"a-box\">\n",
      "<div class=\"a-box-inner\">\n",
      "<h4>Type the characters you see in this image:</h4>\n",
      "<!-- For automated access to price change or offer listing change events,\n",
      "                                             please refer to the MWS Subscription API:\n",
      "                                             https://developer.amazonservices.in/gp/mws/api.html/276-5247872-0590350?ie=UTF8&section=subscriptions&group=subscriptions&version=latest\n",
      "                                        -->\n",
      "<div class=\"a-row a-text-center\">\n",
      "<img src=\"https://images-na.ssl-images-amazon.com/captcha/fmvtfjch/Captcha_dzwpkcfvhc.jpg\"/>\n",
      "</div>\n",
      "<div class=\"a-row a-spacing-base\">\n",
      "<div class=\"a-row\">\n",
      "<div class=\"a-column a-span6\">\n",
      "</div>\n",
      "<div class=\"a-column a-span6 a-span-last a-text-right\">\n",
      "<a onclick=\"window.location.reload()\">Try different image</a>\n",
      "</div>\n",
      "</div>\n",
      "<input autocapitalize=\"off\" autocomplete=\"off\" autocorrect=\"off\" class=\"a-span12\" id=\"captchacharacters\" name=\"field-keywords\" placeholder=\"Type characters\" spellcheck=\"false\" type=\"text\"/>\n",
      "</div>\n",
      "</div>\n",
      "</div>\n",
      "</div>\n",
      "<div class=\"a-section a-spacing-extra-large\">\n",
      "<div class=\"a-row\">\n",
      "<span class=\"a-button a-button-primary a-span12\">\n",
      "<span class=\"a-button-inner\">\n",
      "<button class=\"a-button-text\" type=\"submit\">Continue shopping</button>\n",
      "</span>\n",
      "</span>\n",
      "</div>\n",
      "</div>\n",
      "</form>\n",
      "</div>\n",
      "</div>\n",
      "</div>, <div class=\"a-section a-spacing-extra-large\">\n",
      "<div class=\"a-row\">\n",
      "<span class=\"a-button a-button-primary a-span12\">\n",
      "<span class=\"a-button-inner\">\n",
      "<button class=\"a-button-text\" type=\"submit\">Continue shopping</button>\n",
      "</span>\n",
      "</span>\n",
      "</div>\n",
      "</div>]\n"
     ]
    }
   ],
   "source": [
    "mobile_containers = html_soup.find_all('div', class_=\"a-section\")\n",
    "print(type(mobile_containers))\n",
    "print(len(mobile_containers))\n",
    "print(mobile_containers)"
   ]
  },
  {
   "cell_type": "code",
   "execution_count": null,
   "metadata": {},
   "outputs": [],
   "source": [
    "mobile_data = html_soup.find_all(\"a\",class_=\"a-link-normal a-text-normal\")\n",
    "print(type(mobile_data))\n",
    "print(len(mobile_data))\n",
    "print(mobile_data)"
   ]
  },
  {
   "cell_type": "code",
   "execution_count": 23,
   "metadata": {},
   "outputs": [
    {
     "name": "stdout",
     "output_type": "stream",
     "text": [
      "<a class=\"a-link-normal a-text-normal\" href=\"/Redmi-9A-2GB-32GB-Storage/dp/B08696XB4B\" target=\"_blank\"><span class=\"a-size-medium a-color-base a-text-normal\">Redmi 9A (Nature Green, 2GB RAM, 32GB Storage) | 2GHz Octa-core Helio G25 Processor | 5000 mAh Battery</span> </a>\n"
     ]
    }
   ],
   "source": [
    "first_mobile=mobile_data[0]\n",
    "print(first_mobile)"
   ]
  },
  {
   "cell_type": "code",
   "execution_count": 21,
   "metadata": {},
   "outputs": [
    {
     "data": {
      "text/html": [
       "<div>\n",
       "<style scoped>\n",
       "    .dataframe tbody tr th:only-of-type {\n",
       "        vertical-align: middle;\n",
       "    }\n",
       "\n",
       "    .dataframe tbody tr th {\n",
       "        vertical-align: top;\n",
       "    }\n",
       "\n",
       "    .dataframe thead th {\n",
       "        text-align: right;\n",
       "    }\n",
       "</style>\n",
       "<table border=\"1\" class=\"dataframe\">\n",
       "  <thead>\n",
       "    <tr style=\"text-align: right;\">\n",
       "      <th></th>\n",
       "      <th>name</th>\n",
       "      <th>rating</th>\n",
       "      <th>price</th>\n",
       "    </tr>\n",
       "  </thead>\n",
       "  <tbody>\n",
       "    <tr>\n",
       "      <th>0</th>\n",
       "      <td>Redmi 9A (Nature Green, 2GB RAM, 32GB Storage)...</td>\n",
       "      <td>4.2 out of 5 stars</td>\n",
       "      <td>7,299</td>\n",
       "    </tr>\n",
       "    <tr>\n",
       "      <th>1</th>\n",
       "      <td>Samsung Galaxy M12 (Blue,4GB RAM, 64GB Storage...</td>\n",
       "      <td>4.1 out of 5 stars</td>\n",
       "      <td>11,499</td>\n",
       "    </tr>\n",
       "    <tr>\n",
       "      <th>2</th>\n",
       "      <td>Redmi 9 (Sky Blue, 4GB RAM, 64GB Storage) | 2....</td>\n",
       "      <td>4.2 out of 5 stars</td>\n",
       "      <td>0</td>\n",
       "    </tr>\n",
       "    <tr>\n",
       "      <th>3</th>\n",
       "      <td>OPPO A31 (Mystery Black, 6GB RAM, 128GB Storag...</td>\n",
       "      <td>4.2 out of 5 stars</td>\n",
       "      <td>12,990</td>\n",
       "    </tr>\n",
       "    <tr>\n",
       "      <th>4</th>\n",
       "      <td>Samsung Galaxy M12 (Blue,6GB RAM, 128GB Storag...</td>\n",
       "      <td>4.1 out of 5 stars</td>\n",
       "      <td>13,499</td>\n",
       "    </tr>\n",
       "  </tbody>\n",
       "</table>\n",
       "</div>"
      ],
      "text/plain": [
       "                                                name              rating  \\\n",
       "0  Redmi 9A (Nature Green, 2GB RAM, 32GB Storage)...  4.2 out of 5 stars   \n",
       "1  Samsung Galaxy M12 (Blue,4GB RAM, 64GB Storage...  4.1 out of 5 stars   \n",
       "2  Redmi 9 (Sky Blue, 4GB RAM, 64GB Storage) | 2....  4.2 out of 5 stars   \n",
       "3  OPPO A31 (Mystery Black, 6GB RAM, 128GB Storag...  4.2 out of 5 stars   \n",
       "4  Samsung Galaxy M12 (Blue,6GB RAM, 128GB Storag...  4.1 out of 5 stars   \n",
       "\n",
       "    price  \n",
       "0   7,299  \n",
       "1  11,499  \n",
       "2       0  \n",
       "3  12,990  \n",
       "4  13,499  "
      ]
     },
     "execution_count": 21,
     "metadata": {},
     "output_type": "execute_result"
    }
   ],
   "source": [
    "url = 'https://www.amazon.in/s?k=mobile&ref=nb_sb_noss_2'\n",
    "response = requests.get(url)\n",
    "html_soup = BeautifulSoup(response.text, 'html.parser')\n",
    "mobile_container = html_soup.find_all('div', class_ = \"sg-col sg-col-4-of-12 sg-col-8-of-16 sg-col-12-of-20\")\n",
    "items = []\n",
    "for mobile in mobile_container:\n",
    "    data = {\n",
    "        'name': mobile.find('span', class_=\"a-size-medium a-color-base a-text-normal\").text,\n",
    "        'rating': mobile.find('span', class_=\"a-icon-alt\").text,\n",
    "        'price': mobile.find('span',class_=\"a-price-whole\").text if mobile.find('span',class_='a-price-whole') != None else 0\n",
    "\n",
    "    }\n",
    "    items.append(data)\n",
    "df = pd.DataFrame(items)\n",
    "df.head()"
   ]
  },
  {
   "cell_type": "code",
   "execution_count": 33,
   "metadata": {},
   "outputs": [
    {
     "data": {
      "text/html": [
       "<div>\n",
       "<style scoped>\n",
       "    .dataframe tbody tr th:only-of-type {\n",
       "        vertical-align: middle;\n",
       "    }\n",
       "\n",
       "    .dataframe tbody tr th {\n",
       "        vertical-align: top;\n",
       "    }\n",
       "\n",
       "    .dataframe thead th {\n",
       "        text-align: right;\n",
       "    }\n",
       "</style>\n",
       "<table border=\"1\" class=\"dataframe\">\n",
       "  <thead>\n",
       "    <tr style=\"text-align: right;\">\n",
       "      <th></th>\n",
       "      <th>name</th>\n",
       "      <th>rating</th>\n",
       "      <th>no of raitings</th>\n",
       "      <th>price</th>\n",
       "    </tr>\n",
       "  </thead>\n",
       "  <tbody>\n",
       "    <tr>\n",
       "      <th>0</th>\n",
       "      <td>Redmi 9A (Nature Green, 2GB RAM, 32GB Storage)...</td>\n",
       "      <td>4.2 out of 5 stars</td>\n",
       "      <td>92,409</td>\n",
       "      <td>7,299</td>\n",
       "    </tr>\n",
       "    <tr>\n",
       "      <th>1</th>\n",
       "      <td>Samsung Galaxy M12 (Blue,4GB RAM, 64GB Storage...</td>\n",
       "      <td>4.1 out of 5 stars</td>\n",
       "      <td>65,605</td>\n",
       "      <td>11,499</td>\n",
       "    </tr>\n",
       "    <tr>\n",
       "      <th>2</th>\n",
       "      <td>Redmi 9 (Sky Blue, 4GB RAM, 64GB Storage) | 2....</td>\n",
       "      <td>4.2 out of 5 stars</td>\n",
       "      <td>107,645</td>\n",
       "      <td>8,999</td>\n",
       "    </tr>\n",
       "    <tr>\n",
       "      <th>3</th>\n",
       "      <td>OPPO A31 (Mystery Black, 6GB RAM, 128GB Storag...</td>\n",
       "      <td>4.2 out of 5 stars</td>\n",
       "      <td>35,765</td>\n",
       "      <td>12,990</td>\n",
       "    </tr>\n",
       "    <tr>\n",
       "      <th>4</th>\n",
       "      <td>Samsung Galaxy M12 (Blue,6GB RAM, 128GB Storag...</td>\n",
       "      <td>4.1 out of 5 stars</td>\n",
       "      <td>65,605</td>\n",
       "      <td>13,499</td>\n",
       "    </tr>\n",
       "  </tbody>\n",
       "</table>\n",
       "</div>"
      ],
      "text/plain": [
       "                                                name              rating  \\\n",
       "0  Redmi 9A (Nature Green, 2GB RAM, 32GB Storage)...  4.2 out of 5 stars   \n",
       "1  Samsung Galaxy M12 (Blue,4GB RAM, 64GB Storage...  4.1 out of 5 stars   \n",
       "2  Redmi 9 (Sky Blue, 4GB RAM, 64GB Storage) | 2....  4.2 out of 5 stars   \n",
       "3  OPPO A31 (Mystery Black, 6GB RAM, 128GB Storag...  4.2 out of 5 stars   \n",
       "4  Samsung Galaxy M12 (Blue,6GB RAM, 128GB Storag...  4.1 out of 5 stars   \n",
       "\n",
       "  no of raitings   price  \n",
       "0         92,409   7,299  \n",
       "1         65,605  11,499  \n",
       "2        107,645   8,999  \n",
       "3         35,765  12,990  \n",
       "4         65,605  13,499  "
      ]
     },
     "execution_count": 33,
     "metadata": {},
     "output_type": "execute_result"
    }
   ],
   "source": [
    "url = 'https://www.amazon.in/s?k=mobile&ref=nb_sb_noss_2'\n",
    "response = requests.get(url)\n",
    "html_soup = BeautifulSoup(response.text, 'html.parser')\n",
    "mobile_container = html_soup.find_all('div', class_ = \"sg-col sg-col-4-of-12 sg-col-8-of-16 sg-col-12-of-20\")\n",
    "items = []\n",
    "for mobile in mobile_container:\n",
    "    data = {\n",
    "        'name': mobile.find('span', class_=\"a-size-medium a-color-base a-text-normal\").text,\n",
    "        'rating': mobile.find('span', class_=\"a-icon-alt\").text,\n",
    "        'no of raitings':mobile.find('span', class_=\"a-size-base\").text,\n",
    "        'price': mobile.find('span',class_=\"a-price-whole\").text if mobile.find('span',class_='a-price-whole') != None else 0\n",
    "\n",
    "    }\n",
    "    items.append(data)\n",
    "df = pd.DataFrame(items)\n",
    "df.head()"
   ]
  }
 ],
 "metadata": {
  "interpreter": {
   "hash": "8472c49774e88a00aabd3f3607337df9d93343567da3242f839f648923139f50"
  },
  "kernelspec": {
   "display_name": "Python 3.9.2 64-bit",
   "language": "python",
   "name": "python3"
  },
  "language_info": {
   "codemirror_mode": {
    "name": "ipython",
    "version": 3
   },
   "file_extension": ".py",
   "mimetype": "text/x-python",
   "name": "python",
   "nbconvert_exporter": "python",
   "pygments_lexer": "ipython3",
   "version": "3.9.2"
  },
  "orig_nbformat": 4
 },
 "nbformat": 4,
 "nbformat_minor": 2
}
